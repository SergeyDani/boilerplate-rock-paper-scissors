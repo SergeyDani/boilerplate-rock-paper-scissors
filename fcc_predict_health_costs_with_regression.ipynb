{
  "cells": [
    {
      "cell_type": "markdown",
      "metadata": {
        "id": "view-in-github",
        "colab_type": "text"
      },
      "source": [
        "<a href=\"https://colab.research.google.com/github/SergeyDani/boilerplate-rock-paper-scissors/blob/main/fcc_predict_health_costs_with_regression.ipynb\" target=\"_parent\"><img src=\"https://colab.research.google.com/assets/colab-badge.svg\" alt=\"Open In Colab\"/></a>"
      ]
    },
    {
      "cell_type": "code",
      "execution_count": null,
      "metadata": {
        "id": "1rRo8oNqZ-Rj"
      },
      "outputs": [],
      "source": [
        "# Import libraries. You may or may not use all of these.\n",
        "!pip install -q git+https://github.com/tensorflow/docs\n",
        "import matplotlib.pyplot as plt\n",
        "import numpy as np\n",
        "import pandas as pd\n",
        "\n",
        "try:\n",
        "  # %tensorflow_version only exists in Colab.\n",
        "  %tensorflow_version 2.x\n",
        "except Exception:\n",
        "  pass\n",
        "import tensorflow as tf\n",
        "\n",
        "from tensorflow import keras\n",
        "from tensorflow.keras import layers\n",
        "\n",
        "import tensorflow_docs as tfdocs\n",
        "import tensorflow_docs.plots\n",
        "import tensorflow_docs.modeling\n",
        "\n",
        "from sklearn.model_selection import train_test_split\n",
        "from sklearn.preprocessing import MinMaxScaler"
      ]
    },
    {
      "cell_type": "code",
      "execution_count": null,
      "metadata": {
        "id": "CiX2FI4gZtTt"
      },
      "outputs": [],
      "source": [
        "# Import data\n",
        "!wget https://cdn.freecodecamp.org/project-data/health-costs/insurance.csv\n",
        "dataset = pd.read_csv('insurance.csv')\n",
        "dataset.tail()"
      ]
    },
    {
      "cell_type": "code",
      "execution_count": null,
      "metadata": {
        "id": "LcopvQh3X-kX"
      },
      "outputs": [],
      "source": [
        "df=dataset\n",
        "#convert catagorical data to numeric data.\n",
        "df_catagorical = df.select_dtypes(include=['object']).copy()\n",
        "\n",
        "vocab_dict = {\"sex\":{\"male\":0,\"female\":1},\"smoker\":{\"yes\":1,\"no\":0},\"region\":{\"northeast\":3,\"northwest\":2,\"southwest\":1,\"southeast\":0}}\n",
        "df_2 = df.copy().replace(vocab_dict)\n",
        "#Standardize data used before training the model.\n",
        "scaler = MinMaxScaler().fit(df_2)\n",
        "df_3 = scaler.transform(df_2)\n",
        "#put scaled data into a dataframe\n",
        "df_3 = pd.DataFrame(data=df_3,columns=['age','sex','bmi','children','smoker','region','expenses'])\n",
        "df_3.head()\n",
        "#Split data,labels into testing and training data,labels.\n",
        "features_train, features_test, target_train, target_test = train_test_split(\n",
        "df_3, df_3.pop('expenses'), test_size=0.20, random_state=0)\n"
      ]
    },
    {
      "cell_type": "code",
      "source": [
        "#construct model\n",
        "model = keras.Sequential()\n",
        "\n",
        "model.add(layers.Dense(units=32,input_shape=(features_train.shape[1],)))\n",
        "model.add(layers.Activation('relu'))\n",
        "model.add(layers.Dense(1))\n",
        "\n",
        "optimizer=tf.keras.optimizers.Adam(\n",
        "    learning_rate=0.001)\n",
        "\n",
        "model.compile(loss=\"mse\",optimizer=optimizer ,metrics=[\"mse\",\"mae\"])"
      ],
      "metadata": {
        "id": "4x-Df4S14tjV"
      },
      "execution_count": null,
      "outputs": []
    },
    {
      "cell_type": "code",
      "source": [
        "#the model is now trained on training data and tested against test data.\n",
        "history = model.fit(features_train, target_train,epochs=10,verbose=2,batch_size=200,validation_data=(features_test, target_test))\n",
        ""
      ],
      "metadata": {
        "id": "mScbt-Is4wZ5"
      },
      "execution_count": null,
      "outputs": []
    },
    {
      "cell_type": "code",
      "source": [
        "#set varible names for test\n",
        "test_dataset = features_test\n",
        "test_labels = target_test"
      ],
      "metadata": {
        "id": "i4OeJZRT4zC0"
      },
      "execution_count": null,
      "outputs": []
    },
    {
      "cell_type": "code",
      "execution_count": null,
      "metadata": {
        "id": "Xe7RXH3N3CWU"
      },
      "outputs": [],
      "source": [
        "# RUN THIS CELL TO TEST YOUR MODEL. DO NOT MODIFY CONTENTS.\n",
        "# Test model by checking how well the model generalizes using the test set.\n",
        "loss, mae, mse = model.evaluate(test_dataset, test_labels, verbose=2)\n",
        "\n",
        "print(\"Testing set Mean Abs Error: {:5.2f} expenses\".format(mae))\n",
        "\n",
        "if mae < 3500:\n",
        "  print(\"You passed the challenge. Great job!\")\n",
        "else:\n",
        "  print(\"The Mean Abs Error must be less than 3500. Keep trying.\")\n",
        "\n",
        "# Plot predictions.\n",
        "test_predictions = model.predict(test_dataset).flatten()\n",
        "\n",
        "a = plt.axes(aspect='equal')\n",
        "plt.scatter(test_labels, test_predictions)\n",
        "plt.xlabel('True values (expenses)')\n",
        "plt.ylabel('Predictions (expenses)')\n",
        "lims = [0, 50000]\n",
        "plt.xlim(lims)\n",
        "plt.ylim(lims)\n",
        "_ = plt.plot(lims,lims)"
      ]
    },
    {
      "cell_type": "code",
      "source": [],
      "metadata": {
        "id": "4J0LPCZt41TR"
      },
      "execution_count": null,
      "outputs": []
    }
  ],
  "metadata": {
    "colab": {
      "name": "fcc_predict_health_costs_with_regression.ipynb",
      "private_outputs": true,
      "provenance": [],
      "toc_visible": true,
      "include_colab_link": true
    },
    "kernelspec": {
      "display_name": "Python 3",
      "name": "python3"
    }
  },
  "nbformat": 4,
  "nbformat_minor": 0
}